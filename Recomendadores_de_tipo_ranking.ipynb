{
  "cells": [
    {
      "cell_type": "markdown",
      "source": [
        "# Ranking-type Recommender Algorithm. \n",
        "\n",
        "The following report is to show the results of the ranking-type Recommender Algorithm, in the style of the imdb top 250 for the recommendation of movies to the users.\n",
        "\n",
        "To make the ranking and recommend the films we use the data provided by the company's engineers, the media.csv file.\n",
        "\n",
        "The first thing we did was load the media.csv file using pandas and we also loaded the Numpy library to do calculations.\n",
        "\n",
        "### Analysis to develop\n",
        "\n",
        "- Ranking type recommender, in the style of the imdb top 250. \n",
        "- A tag-based recommender, which lists movies.\n",
        "- A collaborative filter recommender to recommend. \n",
        "\n"
      ],
      "metadata": {
        "id": "WS8p3F3ctmt3"
      }
    },
    {
      "cell_type": "markdown",
      "source": [
        "from google.colab import drive\n",
        "drive.mount('/content/drive')"
      ],
      "metadata": {
        "id": "09y76Yv9lnFf"
      }
    },
    {
      "cell_type": "code",
      "source": [
        "from google.colab import drive\n",
        "drive.mount('/content/drive')"
      ],
      "metadata": {
        "colab": {
          "base_uri": "https://localhost:8080/"
        },
        "id": "9jUr7eHrpvq8",
        "outputId": "c0fd3f0d-1529-4325-fe23-9dffbc8343cf"
      },
      "execution_count": null,
      "outputs": [
        {
          "output_type": "stream",
          "name": "stdout",
          "text": [
            "Mounted at /content/drive\n"
          ]
        }
      ]
    },
    {
      "cell_type": "code",
      "source": [
        "import pandas as pd\n",
        "import numpy as np\n",
        "\n",
        "peliculas = pd.read_csv('/content/drive/MyDrive/Colab Notebooks/eoi_recomendaciones/datos/medias.csv', low_memory=False)"
      ],
      "metadata": {
        "id": "wPCjkhpwp54f"
      },
      "execution_count": null,
      "outputs": []
    },
    {
      "cell_type": "code",
      "source": [
        "# Display the total of the columns of the dataset\n",
        "pd.options.display.max_columns = 100"
      ],
      "metadata": {
        "id": "ArW3svsKR-Jk"
      },
      "execution_count": null,
      "outputs": []
    },
    {
      "cell_type": "code",
      "source": [
        "peliculas.head()"
      ],
      "metadata": {
        "colab": {
          "base_uri": "https://localhost:8080/",
          "height": 206
        },
        "id": "AGUTztUrqROv",
        "outputId": "b2be61d0-4817-4685-d6ee-1f73dfef038b"
      },
      "execution_count": null,
      "outputs": [
        {
          "output_type": "execute_result",
          "data": {
            "text/plain": [
              "   Unnamed: 0    imdb_id  conteo  media_rating  \\\n",
              "0           0  tt0000008       1           5.0   \n",
              "1           1  tt0419773       1           8.0   \n",
              "2           2  tt0419766       1           6.0   \n",
              "3           3  tt0419765       1           8.0   \n",
              "4           4  tt4048050       1          10.0   \n",
              "\n",
              "                               imdb_title                 genre  \n",
              "0  Edison Kinetoscopic Record of a Sneeze     Documentary|Short  \n",
              "1                              Gespenster                 Drama  \n",
              "2                          Garçon stupide  Comedy|Drama|Romance  \n",
              "3              We Have the Following News                Comedy  \n",
              "4                          My Golden Days                 Drama  "
            ],
            "text/html": [
              "\n",
              "  <div id=\"df-9f7d4cd8-6863-442a-8c9f-bb19c9586c8f\">\n",
              "    <div class=\"colab-df-container\">\n",
              "      <div>\n",
              "<style scoped>\n",
              "    .dataframe tbody tr th:only-of-type {\n",
              "        vertical-align: middle;\n",
              "    }\n",
              "\n",
              "    .dataframe tbody tr th {\n",
              "        vertical-align: top;\n",
              "    }\n",
              "\n",
              "    .dataframe thead th {\n",
              "        text-align: right;\n",
              "    }\n",
              "</style>\n",
              "<table border=\"1\" class=\"dataframe\">\n",
              "  <thead>\n",
              "    <tr style=\"text-align: right;\">\n",
              "      <th></th>\n",
              "      <th>Unnamed: 0</th>\n",
              "      <th>imdb_id</th>\n",
              "      <th>conteo</th>\n",
              "      <th>media_rating</th>\n",
              "      <th>imdb_title</th>\n",
              "      <th>genre</th>\n",
              "    </tr>\n",
              "  </thead>\n",
              "  <tbody>\n",
              "    <tr>\n",
              "      <th>0</th>\n",
              "      <td>0</td>\n",
              "      <td>tt0000008</td>\n",
              "      <td>1</td>\n",
              "      <td>5.0</td>\n",
              "      <td>Edison Kinetoscopic Record of a Sneeze</td>\n",
              "      <td>Documentary|Short</td>\n",
              "    </tr>\n",
              "    <tr>\n",
              "      <th>1</th>\n",
              "      <td>1</td>\n",
              "      <td>tt0419773</td>\n",
              "      <td>1</td>\n",
              "      <td>8.0</td>\n",
              "      <td>Gespenster</td>\n",
              "      <td>Drama</td>\n",
              "    </tr>\n",
              "    <tr>\n",
              "      <th>2</th>\n",
              "      <td>2</td>\n",
              "      <td>tt0419766</td>\n",
              "      <td>1</td>\n",
              "      <td>6.0</td>\n",
              "      <td>Garçon stupide</td>\n",
              "      <td>Comedy|Drama|Romance</td>\n",
              "    </tr>\n",
              "    <tr>\n",
              "      <th>3</th>\n",
              "      <td>3</td>\n",
              "      <td>tt0419765</td>\n",
              "      <td>1</td>\n",
              "      <td>8.0</td>\n",
              "      <td>We Have the Following News</td>\n",
              "      <td>Comedy</td>\n",
              "    </tr>\n",
              "    <tr>\n",
              "      <th>4</th>\n",
              "      <td>4</td>\n",
              "      <td>tt4048050</td>\n",
              "      <td>1</td>\n",
              "      <td>10.0</td>\n",
              "      <td>My Golden Days</td>\n",
              "      <td>Drama</td>\n",
              "    </tr>\n",
              "  </tbody>\n",
              "</table>\n",
              "</div>\n",
              "      <button class=\"colab-df-convert\" onclick=\"convertToInteractive('df-9f7d4cd8-6863-442a-8c9f-bb19c9586c8f')\"\n",
              "              title=\"Convert this dataframe to an interactive table.\"\n",
              "              style=\"display:none;\">\n",
              "        \n",
              "  <svg xmlns=\"http://www.w3.org/2000/svg\" height=\"24px\"viewBox=\"0 0 24 24\"\n",
              "       width=\"24px\">\n",
              "    <path d=\"M0 0h24v24H0V0z\" fill=\"none\"/>\n",
              "    <path d=\"M18.56 5.44l.94 2.06.94-2.06 2.06-.94-2.06-.94-.94-2.06-.94 2.06-2.06.94zm-11 1L8.5 8.5l.94-2.06 2.06-.94-2.06-.94L8.5 2.5l-.94 2.06-2.06.94zm10 10l.94 2.06.94-2.06 2.06-.94-2.06-.94-.94-2.06-.94 2.06-2.06.94z\"/><path d=\"M17.41 7.96l-1.37-1.37c-.4-.4-.92-.59-1.43-.59-.52 0-1.04.2-1.43.59L10.3 9.45l-7.72 7.72c-.78.78-.78 2.05 0 2.83L4 21.41c.39.39.9.59 1.41.59.51 0 1.02-.2 1.41-.59l7.78-7.78 2.81-2.81c.8-.78.8-2.07 0-2.86zM5.41 20L4 18.59l7.72-7.72 1.47 1.35L5.41 20z\"/>\n",
              "  </svg>\n",
              "      </button>\n",
              "      \n",
              "  <style>\n",
              "    .colab-df-container {\n",
              "      display:flex;\n",
              "      flex-wrap:wrap;\n",
              "      gap: 12px;\n",
              "    }\n",
              "\n",
              "    .colab-df-convert {\n",
              "      background-color: #E8F0FE;\n",
              "      border: none;\n",
              "      border-radius: 50%;\n",
              "      cursor: pointer;\n",
              "      display: none;\n",
              "      fill: #1967D2;\n",
              "      height: 32px;\n",
              "      padding: 0 0 0 0;\n",
              "      width: 32px;\n",
              "    }\n",
              "\n",
              "    .colab-df-convert:hover {\n",
              "      background-color: #E2EBFA;\n",
              "      box-shadow: 0px 1px 2px rgba(60, 64, 67, 0.3), 0px 1px 3px 1px rgba(60, 64, 67, 0.15);\n",
              "      fill: #174EA6;\n",
              "    }\n",
              "\n",
              "    [theme=dark] .colab-df-convert {\n",
              "      background-color: #3B4455;\n",
              "      fill: #D2E3FC;\n",
              "    }\n",
              "\n",
              "    [theme=dark] .colab-df-convert:hover {\n",
              "      background-color: #434B5C;\n",
              "      box-shadow: 0px 1px 3px 1px rgba(0, 0, 0, 0.15);\n",
              "      filter: drop-shadow(0px 1px 2px rgba(0, 0, 0, 0.3));\n",
              "      fill: #FFFFFF;\n",
              "    }\n",
              "  </style>\n",
              "\n",
              "      <script>\n",
              "        const buttonEl =\n",
              "          document.querySelector('#df-9f7d4cd8-6863-442a-8c9f-bb19c9586c8f button.colab-df-convert');\n",
              "        buttonEl.style.display =\n",
              "          google.colab.kernel.accessAllowed ? 'block' : 'none';\n",
              "\n",
              "        async function convertToInteractive(key) {\n",
              "          const element = document.querySelector('#df-9f7d4cd8-6863-442a-8c9f-bb19c9586c8f');\n",
              "          const dataTable =\n",
              "            await google.colab.kernel.invokeFunction('convertToInteractive',\n",
              "                                                     [key], {});\n",
              "          if (!dataTable) return;\n",
              "\n",
              "          const docLinkHtml = 'Like what you see? Visit the ' +\n",
              "            '<a target=\"_blank\" href=https://colab.research.google.com/notebooks/data_table.ipynb>data table notebook</a>'\n",
              "            + ' to learn more about interactive tables.';\n",
              "          element.innerHTML = '';\n",
              "          dataTable['output_type'] = 'display_data';\n",
              "          await google.colab.output.renderOutput(dataTable, element);\n",
              "          const docLink = document.createElement('div');\n",
              "          docLink.innerHTML = docLinkHtml;\n",
              "          element.appendChild(docLink);\n",
              "        }\n",
              "      </script>\n",
              "    </div>\n",
              "  </div>\n",
              "  "
            ]
          },
          "metadata": {},
          "execution_count": 4
        }
      ]
    },
    {
      "cell_type": "code",
      "source": [
        "# We calculate the cut-off point to obtain the 10% of the films with the highest number of votes\n",
        "corte_votos= peliculas['conteo'].quantile(0.90)\n",
        "corte_votos"
      ],
      "metadata": {
        "colab": {
          "base_uri": "https://localhost:8080/"
        },
        "id": "uzjRU4xjrgMg",
        "outputId": "a9572f8f-9fe5-46da-8368-240f28816d3c"
      },
      "execution_count": null,
      "outputs": [
        {
          "output_type": "execute_result",
          "data": {
            "text/plain": [
              "35.0"
            ]
          },
          "metadata": {},
          "execution_count": 5
        }
      ]
    },
    {
      "cell_type": "code",
      "source": [
        "peliculas_filtrado = peliculas[peliculas.conteo >= corte_votos].reset_index()"
      ],
      "metadata": {
        "id": "1594RaqPtVnV"
      },
      "execution_count": null,
      "outputs": []
    },
    {
      "cell_type": "code",
      "source": [
        "peliculas_filtrado.shape"
      ],
      "metadata": {
        "colab": {
          "base_uri": "https://localhost:8080/"
        },
        "id": "BKeFiCLqthIv",
        "outputId": "ca2fafb9-31fb-4d18-8690-1a9e0f426729"
      },
      "execution_count": null,
      "outputs": [
        {
          "output_type": "execute_result",
          "data": {
            "text/plain": [
              "(3817, 7)"
            ]
          },
          "metadata": {},
          "execution_count": 7
        }
      ]
    },
    {
      "cell_type": "code",
      "source": [
        "# Calculate C (Average rating of all movies in the dataset)\n",
        "media = peliculas_filtrado.media_rating.mean()\n",
        "media"
      ],
      "metadata": {
        "colab": {
          "base_uri": "https://localhost:8080/"
        },
        "id": "bVVGlP75tieZ",
        "outputId": "092973c0-1e08-4642-be45-394655ebeffd"
      },
      "execution_count": null,
      "outputs": [
        {
          "output_type": "execute_result",
          "data": {
            "text/plain": [
              "7.140327152565303"
            ]
          },
          "metadata": {},
          "execution_count": 8
        }
      ]
    },
    {
      "cell_type": "code",
      "source": [
        "# Create the function that allows us to calculate the average of IMDb.\n",
        "def media_imdb(x, m=corte_votos, C=media):\n",
        "    v = x['conteo']\n",
        "    R = x['media_rating']\n",
        "    # Calculate the weighted score\n",
        "    return round((R*v + C*m) / (v+m),2)"
      ],
      "metadata": {
        "id": "ezF6nee4rUfE"
      },
      "execution_count": null,
      "outputs": []
    },
    {
      "cell_type": "code",
      "source": [
        "# We apply the function that we have created to the entire data frame and store it in the score column \n",
        "peliculas_filtrado[\"score\"] = peliculas_filtrado.apply(media_imdb,axis = 1)"
      ],
      "metadata": {
        "id": "7GLEA54SUVCq"
      },
      "execution_count": null,
      "outputs": []
    },
    {
      "cell_type": "code",
      "source": [
        "# Order the results based on the results obtained\n",
        "peliculas_filtrado = peliculas_filtrado.sort_values('score', ascending=False)"
      ],
      "metadata": {
        "id": "7qSgknZ5UhFn"
      },
      "execution_count": null,
      "outputs": []
    },
    {
      "cell_type": "code",
      "source": [
        "# We see the top 25 of our films\n",
        "peliculas_filtrado[['imdb_title', 'conteo', 'media_rating', 'genre']].head(25)"
      ],
      "metadata": {
        "colab": {
          "base_uri": "https://localhost:8080/",
          "height": 833
        },
        "id": "BFx32QyCrH8-",
        "outputId": "738ed383-30e2-4cec-8d62-186c01e62a43"
      },
      "execution_count": null,
      "outputs": [
        {
          "output_type": "execute_result",
          "data": {
            "text/plain": [
              "                                         imdb_title  conteo  media_rating  \\\n",
              "3273                                    Be Somebody     353      9.985836   \n",
              "3729                       The Shawshank Redemption    1177      9.388275   \n",
              "3609                                The Dark Knight     740      9.279730   \n",
              "3333  The Lord of the Rings: The Return of the King     392      9.346939   \n",
              "3660                                   12 Angry Men     874      9.210526   \n",
              "3812                                          Joker    2757      9.081973   \n",
              "3763                              Avengers: Endgame    1474      9.046811   \n",
              "3320                         The Godfather: Part II     385      9.140260   \n",
              "3599                                  The Godfather     717      9.050209   \n",
              "3713                                      Inception    1056      9.024621   \n",
              "3680                                   Forrest Gump     930      9.022581   \n",
              "3246                          It's a Wonderful Life     342      9.125731   \n",
              "3220                                        Amadeus     332      9.111446   \n",
              "3301                 The Good, the Bad and the Ugly     373      9.077748   \n",
              "3489                                 The Green Mile     535      9.016822   \n",
              "3435                               Schindler's List     470      9.023404   \n",
              "3512                               Scent of a Woman     555      8.998198   \n",
              "2831                      Demon Slayer: Mugen Train     200      9.175000   \n",
              "3033                     Terminator 2: Judgment Day     249      9.108434   \n",
              "3692                                          Se7en     970      8.910309   \n",
              "3543                One Flew Over the Cuckoo's Nest     605      8.935537   \n",
              "3580                               A Beautiful Mind     679      8.932253   \n",
              "3815                                   Interstellar    2964      8.846154   \n",
              "3666                                   The Prestige     888      8.896396   \n",
              "3318                                         Dangal     384      8.968750   \n",
              "\n",
              "                                   genre  \n",
              "3273                Comedy|Drama|Romance  \n",
              "3729                               Drama  \n",
              "3609         Action|Crime|Drama|Thriller  \n",
              "3333             Adventure|Drama|Fantasy  \n",
              "3660                         Crime|Drama  \n",
              "3812                Crime|Drama|Thriller  \n",
              "3763     Action|Adventure|Fantasy|Sci-Fi  \n",
              "3320                         Crime|Drama  \n",
              "3599                         Crime|Drama  \n",
              "3713    Action|Adventure|Sci-Fi|Thriller  \n",
              "3680                       Drama|Romance  \n",
              "3246                Drama|Family|Fantasy  \n",
              "3220       Biography|Drama|History|Music  \n",
              "3301                             Western  \n",
              "3489         Crime|Drama|Fantasy|Mystery  \n",
              "3435             Biography|Drama|History  \n",
              "3512                               Drama  \n",
              "2831  Animation|Action|Adventure|Fantasy  \n",
              "3033                       Action|Sci-Fi  \n",
              "3692        Crime|Drama|Mystery|Thriller  \n",
              "3543                               Drama  \n",
              "3580                     Biography|Drama  \n",
              "3815              Adventure|Drama|Sci-Fi  \n",
              "3666       Drama|Mystery|Sci-Fi|Thriller  \n",
              "3318        Action|Biography|Drama|Sport  "
            ],
            "text/html": [
              "\n",
              "  <div id=\"df-48079954-59d3-466f-a26e-7a09531d3133\">\n",
              "    <div class=\"colab-df-container\">\n",
              "      <div>\n",
              "<style scoped>\n",
              "    .dataframe tbody tr th:only-of-type {\n",
              "        vertical-align: middle;\n",
              "    }\n",
              "\n",
              "    .dataframe tbody tr th {\n",
              "        vertical-align: top;\n",
              "    }\n",
              "\n",
              "    .dataframe thead th {\n",
              "        text-align: right;\n",
              "    }\n",
              "</style>\n",
              "<table border=\"1\" class=\"dataframe\">\n",
              "  <thead>\n",
              "    <tr style=\"text-align: right;\">\n",
              "      <th></th>\n",
              "      <th>imdb_title</th>\n",
              "      <th>conteo</th>\n",
              "      <th>media_rating</th>\n",
              "      <th>genre</th>\n",
              "    </tr>\n",
              "  </thead>\n",
              "  <tbody>\n",
              "    <tr>\n",
              "      <th>3273</th>\n",
              "      <td>Be Somebody</td>\n",
              "      <td>353</td>\n",
              "      <td>9.985836</td>\n",
              "      <td>Comedy|Drama|Romance</td>\n",
              "    </tr>\n",
              "    <tr>\n",
              "      <th>3729</th>\n",
              "      <td>The Shawshank Redemption</td>\n",
              "      <td>1177</td>\n",
              "      <td>9.388275</td>\n",
              "      <td>Drama</td>\n",
              "    </tr>\n",
              "    <tr>\n",
              "      <th>3609</th>\n",
              "      <td>The Dark Knight</td>\n",
              "      <td>740</td>\n",
              "      <td>9.279730</td>\n",
              "      <td>Action|Crime|Drama|Thriller</td>\n",
              "    </tr>\n",
              "    <tr>\n",
              "      <th>3333</th>\n",
              "      <td>The Lord of the Rings: The Return of the King</td>\n",
              "      <td>392</td>\n",
              "      <td>9.346939</td>\n",
              "      <td>Adventure|Drama|Fantasy</td>\n",
              "    </tr>\n",
              "    <tr>\n",
              "      <th>3660</th>\n",
              "      <td>12 Angry Men</td>\n",
              "      <td>874</td>\n",
              "      <td>9.210526</td>\n",
              "      <td>Crime|Drama</td>\n",
              "    </tr>\n",
              "    <tr>\n",
              "      <th>3812</th>\n",
              "      <td>Joker</td>\n",
              "      <td>2757</td>\n",
              "      <td>9.081973</td>\n",
              "      <td>Crime|Drama|Thriller</td>\n",
              "    </tr>\n",
              "    <tr>\n",
              "      <th>3763</th>\n",
              "      <td>Avengers: Endgame</td>\n",
              "      <td>1474</td>\n",
              "      <td>9.046811</td>\n",
              "      <td>Action|Adventure|Fantasy|Sci-Fi</td>\n",
              "    </tr>\n",
              "    <tr>\n",
              "      <th>3320</th>\n",
              "      <td>The Godfather: Part II</td>\n",
              "      <td>385</td>\n",
              "      <td>9.140260</td>\n",
              "      <td>Crime|Drama</td>\n",
              "    </tr>\n",
              "    <tr>\n",
              "      <th>3599</th>\n",
              "      <td>The Godfather</td>\n",
              "      <td>717</td>\n",
              "      <td>9.050209</td>\n",
              "      <td>Crime|Drama</td>\n",
              "    </tr>\n",
              "    <tr>\n",
              "      <th>3713</th>\n",
              "      <td>Inception</td>\n",
              "      <td>1056</td>\n",
              "      <td>9.024621</td>\n",
              "      <td>Action|Adventure|Sci-Fi|Thriller</td>\n",
              "    </tr>\n",
              "    <tr>\n",
              "      <th>3680</th>\n",
              "      <td>Forrest Gump</td>\n",
              "      <td>930</td>\n",
              "      <td>9.022581</td>\n",
              "      <td>Drama|Romance</td>\n",
              "    </tr>\n",
              "    <tr>\n",
              "      <th>3246</th>\n",
              "      <td>It's a Wonderful Life</td>\n",
              "      <td>342</td>\n",
              "      <td>9.125731</td>\n",
              "      <td>Drama|Family|Fantasy</td>\n",
              "    </tr>\n",
              "    <tr>\n",
              "      <th>3220</th>\n",
              "      <td>Amadeus</td>\n",
              "      <td>332</td>\n",
              "      <td>9.111446</td>\n",
              "      <td>Biography|Drama|History|Music</td>\n",
              "    </tr>\n",
              "    <tr>\n",
              "      <th>3301</th>\n",
              "      <td>The Good, the Bad and the Ugly</td>\n",
              "      <td>373</td>\n",
              "      <td>9.077748</td>\n",
              "      <td>Western</td>\n",
              "    </tr>\n",
              "    <tr>\n",
              "      <th>3489</th>\n",
              "      <td>The Green Mile</td>\n",
              "      <td>535</td>\n",
              "      <td>9.016822</td>\n",
              "      <td>Crime|Drama|Fantasy|Mystery</td>\n",
              "    </tr>\n",
              "    <tr>\n",
              "      <th>3435</th>\n",
              "      <td>Schindler's List</td>\n",
              "      <td>470</td>\n",
              "      <td>9.023404</td>\n",
              "      <td>Biography|Drama|History</td>\n",
              "    </tr>\n",
              "    <tr>\n",
              "      <th>3512</th>\n",
              "      <td>Scent of a Woman</td>\n",
              "      <td>555</td>\n",
              "      <td>8.998198</td>\n",
              "      <td>Drama</td>\n",
              "    </tr>\n",
              "    <tr>\n",
              "      <th>2831</th>\n",
              "      <td>Demon Slayer: Mugen Train</td>\n",
              "      <td>200</td>\n",
              "      <td>9.175000</td>\n",
              "      <td>Animation|Action|Adventure|Fantasy</td>\n",
              "    </tr>\n",
              "    <tr>\n",
              "      <th>3033</th>\n",
              "      <td>Terminator 2: Judgment Day</td>\n",
              "      <td>249</td>\n",
              "      <td>9.108434</td>\n",
              "      <td>Action|Sci-Fi</td>\n",
              "    </tr>\n",
              "    <tr>\n",
              "      <th>3692</th>\n",
              "      <td>Se7en</td>\n",
              "      <td>970</td>\n",
              "      <td>8.910309</td>\n",
              "      <td>Crime|Drama|Mystery|Thriller</td>\n",
              "    </tr>\n",
              "    <tr>\n",
              "      <th>3543</th>\n",
              "      <td>One Flew Over the Cuckoo's Nest</td>\n",
              "      <td>605</td>\n",
              "      <td>8.935537</td>\n",
              "      <td>Drama</td>\n",
              "    </tr>\n",
              "    <tr>\n",
              "      <th>3580</th>\n",
              "      <td>A Beautiful Mind</td>\n",
              "      <td>679</td>\n",
              "      <td>8.932253</td>\n",
              "      <td>Biography|Drama</td>\n",
              "    </tr>\n",
              "    <tr>\n",
              "      <th>3815</th>\n",
              "      <td>Interstellar</td>\n",
              "      <td>2964</td>\n",
              "      <td>8.846154</td>\n",
              "      <td>Adventure|Drama|Sci-Fi</td>\n",
              "    </tr>\n",
              "    <tr>\n",
              "      <th>3666</th>\n",
              "      <td>The Prestige</td>\n",
              "      <td>888</td>\n",
              "      <td>8.896396</td>\n",
              "      <td>Drama|Mystery|Sci-Fi|Thriller</td>\n",
              "    </tr>\n",
              "    <tr>\n",
              "      <th>3318</th>\n",
              "      <td>Dangal</td>\n",
              "      <td>384</td>\n",
              "      <td>8.968750</td>\n",
              "      <td>Action|Biography|Drama|Sport</td>\n",
              "    </tr>\n",
              "  </tbody>\n",
              "</table>\n",
              "</div>\n",
              "      <button class=\"colab-df-convert\" onclick=\"convertToInteractive('df-48079954-59d3-466f-a26e-7a09531d3133')\"\n",
              "              title=\"Convert this dataframe to an interactive table.\"\n",
              "              style=\"display:none;\">\n",
              "        \n",
              "  <svg xmlns=\"http://www.w3.org/2000/svg\" height=\"24px\"viewBox=\"0 0 24 24\"\n",
              "       width=\"24px\">\n",
              "    <path d=\"M0 0h24v24H0V0z\" fill=\"none\"/>\n",
              "    <path d=\"M18.56 5.44l.94 2.06.94-2.06 2.06-.94-2.06-.94-.94-2.06-.94 2.06-2.06.94zm-11 1L8.5 8.5l.94-2.06 2.06-.94-2.06-.94L8.5 2.5l-.94 2.06-2.06.94zm10 10l.94 2.06.94-2.06 2.06-.94-2.06-.94-.94-2.06-.94 2.06-2.06.94z\"/><path d=\"M17.41 7.96l-1.37-1.37c-.4-.4-.92-.59-1.43-.59-.52 0-1.04.2-1.43.59L10.3 9.45l-7.72 7.72c-.78.78-.78 2.05 0 2.83L4 21.41c.39.39.9.59 1.41.59.51 0 1.02-.2 1.41-.59l7.78-7.78 2.81-2.81c.8-.78.8-2.07 0-2.86zM5.41 20L4 18.59l7.72-7.72 1.47 1.35L5.41 20z\"/>\n",
              "  </svg>\n",
              "      </button>\n",
              "      \n",
              "  <style>\n",
              "    .colab-df-container {\n",
              "      display:flex;\n",
              "      flex-wrap:wrap;\n",
              "      gap: 12px;\n",
              "    }\n",
              "\n",
              "    .colab-df-convert {\n",
              "      background-color: #E8F0FE;\n",
              "      border: none;\n",
              "      border-radius: 50%;\n",
              "      cursor: pointer;\n",
              "      display: none;\n",
              "      fill: #1967D2;\n",
              "      height: 32px;\n",
              "      padding: 0 0 0 0;\n",
              "      width: 32px;\n",
              "    }\n",
              "\n",
              "    .colab-df-convert:hover {\n",
              "      background-color: #E2EBFA;\n",
              "      box-shadow: 0px 1px 2px rgba(60, 64, 67, 0.3), 0px 1px 3px 1px rgba(60, 64, 67, 0.15);\n",
              "      fill: #174EA6;\n",
              "    }\n",
              "\n",
              "    [theme=dark] .colab-df-convert {\n",
              "      background-color: #3B4455;\n",
              "      fill: #D2E3FC;\n",
              "    }\n",
              "\n",
              "    [theme=dark] .colab-df-convert:hover {\n",
              "      background-color: #434B5C;\n",
              "      box-shadow: 0px 1px 3px 1px rgba(0, 0, 0, 0.15);\n",
              "      filter: drop-shadow(0px 1px 2px rgba(0, 0, 0, 0.3));\n",
              "      fill: #FFFFFF;\n",
              "    }\n",
              "  </style>\n",
              "\n",
              "      <script>\n",
              "        const buttonEl =\n",
              "          document.querySelector('#df-48079954-59d3-466f-a26e-7a09531d3133 button.colab-df-convert');\n",
              "        buttonEl.style.display =\n",
              "          google.colab.kernel.accessAllowed ? 'block' : 'none';\n",
              "\n",
              "        async function convertToInteractive(key) {\n",
              "          const element = document.querySelector('#df-48079954-59d3-466f-a26e-7a09531d3133');\n",
              "          const dataTable =\n",
              "            await google.colab.kernel.invokeFunction('convertToInteractive',\n",
              "                                                     [key], {});\n",
              "          if (!dataTable) return;\n",
              "\n",
              "          const docLinkHtml = 'Like what you see? Visit the ' +\n",
              "            '<a target=\"_blank\" href=https://colab.research.google.com/notebooks/data_table.ipynb>data table notebook</a>'\n",
              "            + ' to learn more about interactive tables.';\n",
              "          element.innerHTML = '';\n",
              "          dataTable['output_type'] = 'display_data';\n",
              "          await google.colab.output.renderOutput(dataTable, element);\n",
              "          const docLink = document.createElement('div');\n",
              "          docLink.innerHTML = docLinkHtml;\n",
              "          element.appendChild(docLink);\n",
              "        }\n",
              "      </script>\n",
              "    </div>\n",
              "  </div>\n",
              "  "
            ]
          },
          "metadata": {},
          "execution_count": 12
        }
      ]
    }
  ],
  "metadata": {
    "kernelspec": {
      "display_name": "Python 3",
      "language": "python",
      "name": "python3"
    },
    "language_info": {
      "codemirror_mode": {
        "name": "ipython",
        "version": 3
      },
      "file_extension": ".py",
      "mimetype": "text/x-python",
      "name": "python",
      "nbconvert_exporter": "python",
      "pygments_lexer": "ipython3",
      "version": "3.7.4"
    },
    "colab": {
      "provenance": []
    }
  },
  "nbformat": 4,
  "nbformat_minor": 0
}